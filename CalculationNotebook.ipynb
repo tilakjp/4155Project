{
 "cells": [
  {
   "cell_type": "code",
   "execution_count": 24,
   "metadata": {},
   "outputs": [],
   "source": [
    "import pandas as pd\n",
    "from tqdm import tqdm\n",
    "from datetime import datetime\n",
    "from datetime import date\n",
    "import altair as alt\n",
    "from altair import datum\n",
    "\n",
    "from statistics import *\n",
    "\n",
    "file = pd.read_csv(\"merged_stop_data.csv\", dtype = str)\n",
    "file = file[file[\"Bus\"] != \"0\"]\n",
    "file = file[file[\"Time\"].notna()]\n",
    "file = file[file[\"Date\"].notna()]\n",
    "file = file[file[\"Route\"].isin([\"Gold\", \"Silver\", \"Green\"])]"
   ]
  },
  {
   "cell_type": "code",
   "execution_count": 25,
   "metadata": {},
   "outputs": [],
   "source": [
    "def dataset_filter(dataset, start_stop, destination_stop, flag):\n",
    "    file = dataset[dataset[\"Bus\"] != \"0\"]\n",
    "    file = file[file[\"Time\"].notna()]\n",
    "    file = file[file[\"Date\"].notna()]\n",
    "\n",
    "    if flag == 0:\n",
    "        file = file[file[\"Route\"].isin([\"Gold\"])]\n",
    "    if flag == 1:\n",
    "        file = file[file[\"Route\"].isin([\"Green\"])]\n",
    "    if flag == 2:\n",
    "        file = file[file[\"Route\"].isin([\"Silver\"])]\n",
    "\n",
    "    file = file[file[\"Stop\"].isin([start_stop, destination_stop])]\n",
    "    return file"
   ]
  },
  {
   "cell_type": "code",
   "execution_count": 26,
   "metadata": {},
   "outputs": [],
   "source": [
    "def route_filter(dataset, start_stop, destination_stop, flag):\n",
    "    filter = dataset_filter(dataset, start_stop, destination_stop, flag)\n",
    "    time_column = [datetime.strptime(f\"{date}_{time}\", \"%m/%d/%Y_%H:%M:%S\") for time, date in zip(filter[\"Time\"], filter[\"Date\"])]\n",
    "    filter = filter.assign(Converted_Time=time_column)\n",
    "    return filter"
   ]
  },
  {
   "cell_type": "code",
   "execution_count": 27,
   "metadata": {},
   "outputs": [],
   "source": [
    "def calculate_distance(dataset, start_stop, destination_stop, hour, day, month, flag, failsafe):\n",
    "    times = []\n",
    "    for bus, data in dataset.groupby(\"Bus\"):\n",
    "        previous_stop = \"\"\n",
    "        previous_time = 0\n",
    "        previous_route = \"\"\n",
    "\n",
    "        for current_stop, current_time, route in zip(data[\"Stop\"], data[\"Converted_Time\"], data[\"Route\"]):\n",
    "\n",
    "            correct_stop_order = current_stop == destination_stop and previous_stop == start_stop\n",
    "            consistent_route = previous_route == route\n",
    "            correct_hour = current_time.hour == hour\n",
    "            # correct_day = current_time.weekday() == day\n",
    "            correct_month = current_time.month == month\n",
    "\n",
    "            if(correct_stop_order and consistent_route and correct_hour and correct_month and current_time.year != 2020):\n",
    "                time_difference = current_time - previous_time\n",
    "                times.append(round(time_difference.seconds / 60, 2))\n",
    "\n",
    "            previous_stop = current_stop\n",
    "            previous_time = current_time\n",
    "            previous_route = route\n",
    "    \n",
    "    filtered_time = [int(t) for t in times if t < 20 and t >= 1]\n",
    "    if(len(filtered_time) == 0):\n",
    "        if failsafe == 0:\n",
    "            return -1, []\n",
    "        else:\n",
    "            return 1\n",
    "    # print(f\"Median at hour {hour} on weekday {day + 1} in month {month} of 2021: {median(filtered_time)} minutes.\")\n",
    "    return median(filtered_time)"
   ]
  },
  {
   "cell_type": "code",
   "execution_count": 100,
   "metadata": {
    "scrolled": false
   },
   "outputs": [],
   "source": [
    "now = datetime.now()\n",
    "first_location = \"CRI Deck\"\n",
    "second_location = \"Lot 5A\"\n",
    "filter = route_filter(file, first_location, second_location, 2)\n",
    "dist = calculate_distance(filter, first_location, second_location, now.hour, now.weekday(), now.month, 2, 1)\n",
    "\n",
    "hours = []\n",
    "times = []\n",
    "\n",
    "if(now.hour < 20):\n",
    "    for i in range(now.hour + 1, now.hour + 6):\n",
    "        twelve_condition = \"PM\" if i - 12 == 0 else \"AM\"\n",
    "        time = f\"{i - 12} PM\" if i > 12 else f\"{i} {twelve_condition}\"\n",
    "\n",
    "        if(i == now.hour):\n",
    "            hours.append(\"Now\")\n",
    "        else:\n",
    "            hours.append(time)\n",
    "        times.append(calculate_distance(filter, first_location, second_location, i, now.weekday(), now.month, 2, 1))"
   ]
  },
  {
   "cell_type": "code",
   "execution_count": 107,
   "metadata": {},
   "outputs": [
    {
     "data": {
      "text/html": [
       "\n",
       "<div id=\"altair-viz-d9ebbc8742d94e26a8749cdd497b8296\"></div>\n",
       "<script type=\"text/javascript\">\n",
       "  var VEGA_DEBUG = (typeof VEGA_DEBUG == \"undefined\") ? {} : VEGA_DEBUG;\n",
       "  (function(spec, embedOpt){\n",
       "    let outputDiv = document.currentScript.previousElementSibling;\n",
       "    if (outputDiv.id !== \"altair-viz-d9ebbc8742d94e26a8749cdd497b8296\") {\n",
       "      outputDiv = document.getElementById(\"altair-viz-d9ebbc8742d94e26a8749cdd497b8296\");\n",
       "    }\n",
       "    const paths = {\n",
       "      \"vega\": \"https://cdn.jsdelivr.net/npm//vega@5?noext\",\n",
       "      \"vega-lib\": \"https://cdn.jsdelivr.net/npm//vega-lib?noext\",\n",
       "      \"vega-lite\": \"https://cdn.jsdelivr.net/npm//vega-lite@4.17.0?noext\",\n",
       "      \"vega-embed\": \"https://cdn.jsdelivr.net/npm//vega-embed@6?noext\",\n",
       "    };\n",
       "\n",
       "    function maybeLoadScript(lib, version) {\n",
       "      var key = `${lib.replace(\"-\", \"\")}_version`;\n",
       "      return (VEGA_DEBUG[key] == version) ?\n",
       "        Promise.resolve(paths[lib]) :\n",
       "        new Promise(function(resolve, reject) {\n",
       "          var s = document.createElement('script');\n",
       "          document.getElementsByTagName(\"head\")[0].appendChild(s);\n",
       "          s.async = true;\n",
       "          s.onload = () => {\n",
       "            VEGA_DEBUG[key] = version;\n",
       "            return resolve(paths[lib]);\n",
       "          };\n",
       "          s.onerror = () => reject(`Error loading script: ${paths[lib]}`);\n",
       "          s.src = paths[lib];\n",
       "        });\n",
       "    }\n",
       "\n",
       "    function showError(err) {\n",
       "      outputDiv.innerHTML = `<div class=\"error\" style=\"color:red;\">${err}</div>`;\n",
       "      throw err;\n",
       "    }\n",
       "\n",
       "    function displayChart(vegaEmbed) {\n",
       "      vegaEmbed(outputDiv, spec, embedOpt)\n",
       "        .catch(err => showError(`Javascript Error: ${err.message}<br>This usually means there's a typo in your chart specification. See the javascript console for the full traceback.`));\n",
       "    }\n",
       "\n",
       "    if(typeof define === \"function\" && define.amd) {\n",
       "      requirejs.config({paths});\n",
       "      require([\"vega-embed\"], displayChart, err => showError(`Error loading script: ${err.message}`));\n",
       "    } else {\n",
       "      maybeLoadScript(\"vega\", \"5\")\n",
       "        .then(() => maybeLoadScript(\"vega-lite\", \"4.17.0\"))\n",
       "        .then(() => maybeLoadScript(\"vega-embed\", \"6\"))\n",
       "        .catch(showError)\n",
       "        .then(() => displayChart(vegaEmbed));\n",
       "    }\n",
       "  })({\"usermeta\": {\"embedOptions\": {\"theme\": \"vox\"}}, \"config\": {\"view\": {\"continuousWidth\": 400, \"continuousHeight\": 300}}, \"data\": {\"name\": \"data-658943653a361f257f0283dd5d41e8ec\"}, \"mark\": \"bar\", \"encoding\": {\"color\": {\"condition\": {\"value\": \"red\", \"test\": \"(datum.y > 13)\"}, \"value\": \"green\"}, \"opacity\": {\"value\": 0.5}, \"size\": {\"value\": 80}, \"x\": {\"field\": \"x\", \"sort\": null, \"title\": \"Hour\", \"type\": \"nominal\"}, \"y\": {\"field\": \"y\", \"title\": \"Minutes\", \"type\": \"nominal\"}}, \"title\": \"Bus Travel Time Forcast (Next Five Hours)\", \"width\": 500, \"$schema\": \"https://vega.github.io/schema/vega-lite/v4.17.0.json\", \"datasets\": {\"data-658943653a361f257f0283dd5d41e8ec\": [{\"x\": \"3 PM\", \"y\": 12.0}, {\"x\": \"4 PM\", \"y\": 13.0}, {\"x\": \"5 PM\", \"y\": 12.0}, {\"x\": \"6 PM\", \"y\": 12.0}, {\"x\": \"7 PM\", \"y\": 12.0}]}}, {\"mode\": \"vega-lite\"});\n",
       "</script>"
      ],
      "text/plain": [
       "alt.Chart(...)"
      ]
     },
     "execution_count": 107,
     "metadata": {},
     "output_type": "execute_result"
    }
   ],
   "source": [
    "df = pd.DataFrame({\"x\" : hours, \"y\" : times})\n",
    "\n",
    "alt.themes.enable(\"vox\")\n",
    "chart = alt.Chart(df).encode(\n",
    "    x=alt.X(\"x:N\", title=\"Hour\", sort=None),\n",
    "    y=alt.Y(\"y\", title=\"Minutes\"),\n",
    "    opacity=alt.value(0.5),\n",
    "    color=alt.condition((datum.y > dist), alt.ColorValue(\"red\"), alt.ColorValue(\"green\")),\n",
    "    size=alt.value(80),\n",
    "\n",
    ").properties(\n",
    "    width=500,\n",
    "    title=\"Bus Travel Time Forcast (Next Five Hours)\"\n",
    ")\n",
    "chart.mark_bar()\n",
    "\n"
   ]
  }
 ],
 "metadata": {
  "interpreter": {
   "hash": "204c696b9616fbb2f5414f75dd164ba4fe5f4595e52c2f1788ab6ad6da6e047f"
  },
  "kernelspec": {
   "display_name": "Python 3",
   "language": "python",
   "name": "python3"
  },
  "language_info": {
   "codemirror_mode": {
    "name": "ipython",
    "version": 3
   },
   "file_extension": ".py",
   "mimetype": "text/x-python",
   "name": "python",
   "nbconvert_exporter": "python",
   "pygments_lexer": "ipython3",
   "version": "3.8.7"
  }
 },
 "nbformat": 4,
 "nbformat_minor": 2
}
